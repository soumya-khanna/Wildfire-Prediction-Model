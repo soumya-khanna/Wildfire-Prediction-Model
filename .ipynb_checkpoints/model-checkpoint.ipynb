{
 "cells": [
  {
   "cell_type": "code",
   "execution_count": 2,
   "metadata": {},
   "outputs": [
    {
     "name": "stdout",
     "output_type": "stream",
     "text": [
      "           Fire Name  Year Season Started Locations Affected  \\\n",
      "0         Cagua Fire  2020         Winter             Aragua   \n",
      "1      Vietnam Fires  2019         Summer            Da Nang   \n",
      "2    Chile Wildfires  2024         Winter          O'Higgins   \n",
      "3    Chile Wildfires  2024         Winter         Valparaíso   \n",
      "4    Chile Wildfires  2023         Winter              Maule   \n",
      "..               ...   ...            ...                ...   \n",
      "300              NaN  2020         Summer                 MB   \n",
      "301              NaN  2020         Summer                 MB   \n",
      "302              NaN  2020           Fall                 MB   \n",
      "303              NaN  2020         Summer                 NT   \n",
      "304              NaN  2020         Summer                 NT   \n",
      "\n",
      "                                      Temperature (F)  \\\n",
      "0    [75, 75, 73, 73, 72, 72, 71, 72, 72, 78, 82, 81]   \n",
      "1    [79, 81, 81, 82, 84, 86, 88, 90, 91, 93, 95, 97]   \n",
      "2    [78, 78, 78, 80, 82, 78, 77, 77, 77, 75, 73, 73]   \n",
      "3    [77, 81, 84, 88, 90, 90, 88, 86, 84, 81, 79, 75]   \n",
      "4    [72, 73, 73, 73, 75, 77, 75, 73, 70, 68, 64, 63]   \n",
      "..                                                ...   \n",
      "300  [54, 57, 59, 64, 68, 68, 72, 72, 73, 75, 75, 75]   \n",
      "301  [59, 59, 57, 59, 59, 66, 70, 72, 72, 73, 73, 72]   \n",
      "302  [37, 37, 37, 37, 39, 39, 41, 41, 43, 41, 39, 37]   \n",
      "303  [45, 45, 48, 52, 55, 55, 59, 61, 63, 63, 64, 63]   \n",
      "304  [63, 64, 66, 70, 73, 75, 79, 81, 82, 86, 88, 90]   \n",
      "\n",
      "                                         Dewpoint (F)  \\\n",
      "0    [75, 75, 76, 76, 76, 76, 76, 76, 75, 77, 77, 77]   \n",
      "1    [72, 73, 73, 73, 73, 75, 75, 75, 75, 75, 77, 77]   \n",
      "2      [22, 8, 12, 19, 20, 18, 16, 13, 7, 41, 38, 22]   \n",
      "3    [55, 54, 55, 54, 55, 55, 52, 54, 54, 54, 54, 54]   \n",
      "4    [59, 59, 59, 59, 59, 59, 57, 55, 55, 54, 52, 52]   \n",
      "..                                                ...   \n",
      "300    [0, 0, 57, 55, 52, 48, 46, 46, 48, 45, 45, 45]   \n",
      "301  [59, 59, 57, 59, 59, 64, 63, 59, 61, 63, 64, 61]   \n",
      "302  [37, 37, 36, 36, 36, 36, 36, 34, 34, 34, 36, 32]   \n",
      "303  [34, 32, 36, 36, 30, 34, 32, 36, 34, 34, 34, 36]   \n",
      "304  [55, 57, 57, 59, 59, 61, 61, 63, 61, 59, 59, 59]   \n",
      "\n",
      "                                          Humidity (%)  \\\n",
      "0     [85, 86, 86, 88, 90, 90, 94, 89, 74, 62, 55, 53]   \n",
      "1     [78, 79, 79, 74, 70, 70, 66, 62, 59, 56, 56, 53]   \n",
      "2     [74, 79, 84, 79, 74, 79, 83, 83, 83, 94, 94, 89]   \n",
      "3     [47, 39, 37, 31, 31, 31, 31, 31, 35, 39, 42, 47]   \n",
      "4     [64, 61, 61, 57, 57, 54, 53, 53, 60, 60, 64, 68]   \n",
      "..                                                 ...   \n",
      "300     [0, 0, 94, 73, 56, 49, 41, 41, 41, 34, 34, 34]   \n",
      "301  [100, 100, 100, 100, 100, 94, 78, 64, 69, 69, ...   \n",
      "302  [100, 100, 93, 93, 87, 87, 81, 76, 70, 76, 87,...   \n",
      "303   [66, 61, 62, 54, 38, 44, 36, 39, 34, 34, 32, 37]   \n",
      "304   [77, 77, 73, 68, 61, 61, 54, 54, 48, 40, 38, 36]   \n",
      "\n",
      "                                     Wind Speed (mph)  \\\n",
      "0                [2, 3, 3, 3, 4, 4, 2, 4, 2, 4, 6, 6]   \n",
      "1                [5, 6, 2, 5, 7, 5, 5, 7, 5, 6, 5, 2]   \n",
      "2    [18, 18, 20, 21, 20, 20, 20, 20, 17, 10, 11, 11]   \n",
      "3        [3, 6, 8, 12, 13, 15, 16, 18, 15, 15, 13, 9]   \n",
      "4    [13, 17, 18, 17, 21, 23, 21, 23, 18, 20, 17, 15]   \n",
      "..                                                ...   \n",
      "300              [0, 0, 0, 0, 0, 0, 0, 0, 0, 0, 0, 0]   \n",
      "301              [3, 8, 9, 5, 9, 7, 2, 5, 2, 9, 7, 5]   \n",
      "302   [10, 10, 16, 14, 13, 8, 12, 13, 10, 10, 10, 10]   \n",
      "303             [8, 10, 2, 5, 3, 2, 3, 3, 3, 7, 8, 9]   \n",
      "304          [8, 9, 8, 7, 10, 10, 12, 9, 10, 7, 7, 5]   \n",
      "\n",
      "                                         Pressure (in)  \\\n",
      "0    [29.80, 29.83, 29.83, 29.86, 29.86, 29.80, 29....   \n",
      "1    [29.64, 29.64, 29.64, 29.64, 29.67, 29.67, 29....   \n",
      "2    [30.09, 30.09, 30.06, 30.06, 30.06, 30.06, 30....   \n",
      "3    [28.31, 28.31, 28.28, 28.25, 28.25, 28.22, 28....   \n",
      "4    [29.87, 29.84, 29.84, 29.84, 29.81, 29.81, 29....   \n",
      "..                                                 ...   \n",
      "300  [28.99, 29.00, 29.00, 29.01, 29.00, 28.99, 28....   \n",
      "301  [28.49, 28.48, 28.50, 28.48, 28.46, 28.49, 28....   \n",
      "302  [28.70, 28.76, 28.81, 28.86, 28.89, 28.92, 28....   \n",
      "303  [29.19, 29.20, 29.21, 29.22, 29.22, 29.22, 29....   \n",
      "304  [29.51, 29.50, 29.49, 29.48, 29.46, 29.45, 29....   \n",
      "\n",
      "                       Percipitation (in)  \\\n",
      "0    [0, 0, 0, 0, 0, 0, 0, 0, 0, 0, 0, 0]   \n",
      "1    [0, 0, 0, 0, 0, 0, 0, 0, 0, 0, 0, 0]   \n",
      "2    [0, 0, 0, 0, 0, 0, 0, 0, 0, 0, 0, 0]   \n",
      "3    [0, 0, 0, 0, 0, 0, 0, 0, 0, 0, 0, 0]   \n",
      "4    [0, 0, 0, 0, 0, 0, 0, 0, 0, 0, 0, 0]   \n",
      "..                                    ...   \n",
      "300  [0, 0, 0, 0, 0, 0, 0, 0, 0, 0, 0, 0]   \n",
      "301  [0, 0, 0, 0, 0, 0, 0, 0, 0, 0, 0, 0]   \n",
      "302  [0, 0, 0, 0, 0, 0, 0, 0, 0, 0, 0, 0]   \n",
      "303  [0, 0, 0, 0, 0, 0, 0, 0, 0, 0, 0, 0]   \n",
      "304  [0, 0, 0, 0, 0, 0, 0, 0, 0, 0, 0, 0]   \n",
      "\n",
      "                                             Condition Type Of Location  \\\n",
      "0    [Fair, Fair, Partly Cloudy, Fair, Fair, Partly...        Mounatins   \n",
      "1    [Fair, Fair, Fair, Fair, Windy, Windy, Windy, ...    Coastal Hills   \n",
      "2    [Fair, Partly Cloudy, Mostly Cloudy, Fair, Par...        Mountains   \n",
      "3    [Fair, Fair, Fair, Fair, Fair, Fair, Fair, Fai...  Costal Mountain   \n",
      "4    [Fair, Fair, Fair, Fair, Windy, Windy, Windy, ...  Costal Mountain   \n",
      "..                                                 ...              ...   \n",
      "300  [Fog, Partly Cloudy, Fair, Fair, Partly Cloudy...              NaN   \n",
      "301  [Thunder, Thunder, Thunder, Light Rain with Th...              NaN   \n",
      "302  [Cloudy, Mist, Cloudy, Cloudy, Light Rain, Clo...              NaN   \n",
      "303  [Mostly Cloudy, Mostly Cloudy, Partly Cloudy, ...              NaN   \n",
      "304  [Partly Cloudy, Fair, Fair, Fair, Fair, Fair, ...              NaN   \n",
      "\n",
      "      Y-Value  \n",
      "0        Fire  \n",
      "1        Fire  \n",
      "2        Fire  \n",
      "3    Fire\\r\\n  \n",
      "4        Fire  \n",
      "..        ...  \n",
      "300   No Fire  \n",
      "301   No Fire  \n",
      "302   No Fire  \n",
      "303   No Fire  \n",
      "304   No Fire  \n",
      "\n",
      "[305 rows x 13 columns]\n"
     ]
    }
   ],
   "source": [
    "import pandas as pd\n",
    "import numpy as np\n",
    "\n",
    "from ISLP import load_data\n",
    "from sklearn.model_selection import train_test_split\n",
    "from sklearn.preprocessing import PolynomialFeatures\n",
    "from sklearn.model_selection import cross_validate\n",
    "from sklearn.linear_model import LinearRegression, Lasso\n",
    "\n",
    "from mlxtend.evaluate import bias_variance_decomp\n",
    "\n",
    "import warnings\n",
    "warnings.filterwarnings('ignore')\n",
    "\n",
    "df = pd.read_csv('MSCI446_ Data - Sheet1.csv')\n",
    "\n",
    "# kfold = KFold(n_splits=10, shuffle=True, random_state=6969)\n",
    "print(df)"
   ]
  },
  {
   "cell_type": "code",
   "execution_count": 3,
   "metadata": {},
   "outputs": [
    {
     "data": {
      "text/plain": [
       "Year                  0\n",
       "Season Started        0\n",
       "Locations Affected    0\n",
       "Temperature (F)       0\n",
       "Dewpoint (F)          0\n",
       "Humidity (%)          0\n",
       "Wind Speed (mph)      0\n",
       "Pressure (in)         0\n",
       "Percipitation (in)    0\n",
       "Condition             0\n",
       "Type Of Location      0\n",
       "Y-Value               0\n",
       "dtype: int64"
      ]
     },
     "execution_count": 3,
     "metadata": {},
     "output_type": "execute_result"
    }
   ],
   "source": [
    "df = df.drop(['Fire Name'], axis=1)\n",
    "df = df.dropna()\n",
    "df.isna().sum()"
   ]
  },
  {
   "cell_type": "code",
   "execution_count": 4,
   "metadata": {},
   "outputs": [
    {
     "data": {
      "text/plain": [
       "Y-Value_encoded\n",
       "1    120\n",
       "0    115\n",
       "Name: count, dtype: int64"
      ]
     },
     "execution_count": 4,
     "metadata": {},
     "output_type": "execute_result"
    }
   ],
   "source": [
    "fire_map = {'Fire': 1, 'Fire\\r\\n': 1, 'No Fire': 0, 'Not Fire': 0}\n",
    "df['Y-Value_encoded'] = df['Y-Value'].replace(fire_map)\n",
    "df['Y-Value_encoded'].value_counts()"
   ]
  },
  {
   "cell_type": "code",
   "execution_count": 5,
   "metadata": {},
   "outputs": [
    {
     "name": "stdout",
     "output_type": "stream",
     "text": [
      "{'Winter': 0, 'Summer': 1, 'Spring': 2, 'Fall': 3}\n"
     ]
    },
    {
     "data": {
      "text/plain": [
       "Season Started_enc\n",
       "1    89\n",
       "2    53\n",
       "3    47\n",
       "0    46\n",
       "Name: count, dtype: int64"
      ]
     },
     "execution_count": 5,
     "metadata": {},
     "output_type": "execute_result"
    }
   ],
   "source": [
    "misspell_map = {'Wnter': 'Winter', 'Sring': 'Spring'}\n",
    "df['Season Started'] = df['Season Started'].replace(misspell_map)\n",
    "a = df['Season Started'].unique()\n",
    "replace_dict = {k:v for v, k in enumerate(a)}\n",
    "print(replace_dict)\n",
    "df['Season Started_enc'] = df['Season Started'].replace(replace_dict)\n",
    "df['Season Started_enc'].value_counts()"
   ]
  },
  {
   "cell_type": "code",
   "execution_count": 6,
   "metadata": {
    "scrolled": true
   },
   "outputs": [
    {
     "name": "stdout",
     "output_type": "stream",
     "text": [
      "{'Aragua': 0, 'Da Nang': 1, \"O'Higgins\": 2, 'Valparaíso': 3, 'Maule': 4, 'Bulgakovsky': 5, 'Patagonia': 6, 'Araucania': 7, 'Mato Grosso do Sul': 8, 'Amazonas': 9, 'Acre': 10, 'Rondônia': 11, 'Myagdi': 12, 'Pando': 13, 'Ulaanbaatar': 14, 'Santiago del Estero': 15, 'Córdoba': 16, 'New Mexico': 17, 'Nuevo León': 18, 'Scotland': 19, 'Kemerovo': 20, 'AB': 21, 'Guanajuato': 22, 'CA': 23, 'OR': 24, 'WY': 25, 'BC': 26, 'WA': 27, 'ON': 28, 'NY': 29, 'Meghalaya': 30, 'North Rhine-Westphalia': 31, 'South Holland': 32, 'MB': 33, 'Yakutsk': 34, 'Heilongjiang': 35, 'MN': 36, 'SK': 37, 'YT': 38, 'Luxembourg': 39, 'DC': 40, 'IL': 41, 'MA': 42, 'TX': 43, 'Lyon': 44, 'NT': 45, 'NF': 46, 'Ashland': 47, 'Challis': 48, 'Ravendale': 49, 'Black Forest': 50, 'Yarnell': 51, 'Jordan Valley': 52, 'Quebec': 53, 'Yosemite National Park': 54, 'Hailey': 55, 'Okanogan County': 56, 'Yellowknife': 57, 'Oklahoma': 58, 'Fort McMurray': 59, 'Tennessee': 60, 'Ashcroft': 61, 'Montana': 62, 'Santa Rosa': 63, 'Santa Barbara': 64, 'Prescott': 65, 'Kamloops': 66, 'Colorado': 67, 'Mendocino': 68, 'Redding': 69, 'Malibu': 70, 'Paradise': 71, 'Grand Lake': 72, 'Oro Valley': 73, 'Yakima': 74, 'Toronto': 75, 'Alberta': 76, 'British Columbia and Alberta': 77, 'California': 78, 'British Columbia': 79, 'New Jersey': 80, 'North Carolina': 81, 'California and Oregon': 82, 'Wyoming and\\nMontana': 83, 'Manitoba': 84, 'Alaska': 85, 'Florida': 86, 'Washington': 87, 'Arizona': 88, 'Oregon': 89, 'Utah': 90, 'Idaho and Nevada': 91, 'South Carolina': 92, 'Arizona and New Mexico': 93, 'Texas': 94, 'Mississipi': 95, 'Idaho': 96, 'Mexico': 97, 'New York': 98, 'Belize': 99, 'West Virginia': 100, 'Wisconsin': 101, 'Ontario': 102, 'Arkansas': 103, 'Alabama': 104, 'Pennsylvania': 105, 'Wyoming': 106, 'South Dakota': 107, 'Minnesota': 108}\n"
     ]
    },
    {
     "data": {
      "text/plain": [
       "Locations Affected_enc\n",
       "78    23\n",
       "57    12\n",
       "76    12\n",
       "17     9\n",
       "75     9\n",
       "      ..\n",
       "40     1\n",
       "39     1\n",
       "38     1\n",
       "37     1\n",
       "54     1\n",
       "Name: count, Length: 109, dtype: int64"
      ]
     },
     "execution_count": 6,
     "metadata": {},
     "output_type": "execute_result"
    }
   ],
   "source": [
    "b = df['Locations Affected'].unique()\n",
    "replace_dict = {k:v for v, k in enumerate(b)}\n",
    "print(replace_dict)\n",
    "df['Locations Affected_enc'] = df['Locations Affected'].replace(replace_dict)\n",
    "df['Locations Affected_enc'].value_counts()"
   ]
  },
  {
   "cell_type": "code",
   "execution_count": 7,
   "metadata": {},
   "outputs": [
    {
     "name": "stdout",
     "output_type": "stream",
     "text": [
      "{'Mounatins': 0, 'Coastal Hills': 1, 'Mountains': 2, 'Costal Mountain': 3, 'Hills': 4, 'Costal Forest': 5, 'Forest': 6, 'Rainforest': 7, 'Coastal Lowland': 8, 'Desert': 9, 'Coastal Mountains': 10, 'Flat': 11, 'Coastal': 12, 'Grasslands': 13, 'Costal Mountains': 14, 'Coastal Forest': 15, 'Arctic': 16, 'Plains': 17, 'Swamp': 18}\n"
     ]
    },
    {
     "data": {
      "text/plain": [
       "Type Of Location_enc\n",
       "6     77\n",
       "2     59\n",
       "4     16\n",
       "16    11\n",
       "15    10\n",
       "10    10\n",
       "7      8\n",
       "11     8\n",
       "13     6\n",
       "3      6\n",
       "17     6\n",
       "9      4\n",
       "18     3\n",
       "1      3\n",
       "5      3\n",
       "8      2\n",
       "12     1\n",
       "14     1\n",
       "0      1\n",
       "Name: count, dtype: int64"
      ]
     },
     "execution_count": 7,
     "metadata": {},
     "output_type": "execute_result"
    }
   ],
   "source": [
    "b = df['Type Of Location'].unique()\n",
    "replace_dict = {k:v for v, k in enumerate(b)}\n",
    "print(replace_dict)\n",
    "df['Type Of Location_enc'] = df['Type Of Location'].replace(replace_dict)\n",
    "df['Type Of Location_enc'].value_counts()"
   ]
  },
  {
   "cell_type": "code",
   "execution_count": 23,
   "metadata": {},
   "outputs": [
    {
     "name": "stdout",
     "output_type": "stream",
     "text": [
      "[75, 75, 73, 73, 72, 72, 71, 72, 72, 78, 82, 81] object\n"
     ]
    },
    {
     "ename": "AttributeError",
     "evalue": "'Series' object has no attribute 'type'",
     "output_type": "error",
     "traceback": [
      "\u001b[0;31m---------------------------------------------------------------------------\u001b[0m",
      "\u001b[0;31mAttributeError\u001b[0m                            Traceback (most recent call last)",
      "\u001b[0;32m/tmp/ipykernel_686/1884405098.py\u001b[0m in \u001b[0;36m?\u001b[0;34m()\u001b[0m\n\u001b[1;32m     11\u001b[0m \u001b[0;32mdef\u001b[0m \u001b[0mstr_to_list\u001b[0m\u001b[0;34m(\u001b[0m\u001b[0mx\u001b[0m\u001b[0;34m)\u001b[0m\u001b[0;34m:\u001b[0m\u001b[0;34m\u001b[0m\u001b[0;34m\u001b[0m\u001b[0m\n\u001b[0;32m---> 12\u001b[0;31m     \u001b[0mvalues\u001b[0m \u001b[0;34m=\u001b[0m \u001b[0mx\u001b[0m\u001b[0;34m.\u001b[0m\u001b[0mreplace\u001b[0m\u001b[0;34m(\u001b[0m\u001b[0;34m','\u001b[0m\u001b[0;34m,\u001b[0m\u001b[0;34m''\u001b[0m\u001b[0;34m)\u001b[0m\u001b[0;34m.\u001b[0m\u001b[0mreplace\u001b[0m\u001b[0;34m(\u001b[0m\u001b[0;34m'['\u001b[0m\u001b[0;34m,\u001b[0m\u001b[0;34m''\u001b[0m\u001b[0;34m)\u001b[0m\u001b[0;34m.\u001b[0m\u001b[0mreplace\u001b[0m\u001b[0;34m(\u001b[0m\u001b[0;34m']'\u001b[0m\u001b[0;34m,\u001b[0m\u001b[0;34m''\u001b[0m\u001b[0;34m)\u001b[0m\u001b[0;34m\u001b[0m\u001b[0;34m\u001b[0m\u001b[0m\n\u001b[0m\u001b[1;32m     13\u001b[0m     \u001b[0ml\u001b[0m \u001b[0;34m=\u001b[0m \u001b[0;34m[\u001b[0m\u001b[0mint\u001b[0m\u001b[0;34m(\u001b[0m\u001b[0mval\u001b[0m\u001b[0;34m)\u001b[0m \u001b[0;32mfor\u001b[0m \u001b[0mval\u001b[0m \u001b[0;32min\u001b[0m \u001b[0mvalues\u001b[0m\u001b[0;34m]\u001b[0m\u001b[0;34m\u001b[0m\u001b[0;34m\u001b[0m\u001b[0m\n\u001b[1;32m     14\u001b[0m     \u001b[0;32mreturn\u001b[0m \u001b[0ml\u001b[0m\u001b[0;34m\u001b[0m\u001b[0;34m\u001b[0m\u001b[0m\n\u001b[1;32m     15\u001b[0m \u001b[0;34m\u001b[0m\u001b[0m\n",
      "\u001b[0;32m~/.local/lib/python3.8/site-packages/pandas/core/generic.py\u001b[0m in \u001b[0;36m?\u001b[0;34m(self, name)\u001b[0m\n\u001b[1;32m   5985\u001b[0m             \u001b[0;32mand\u001b[0m \u001b[0mname\u001b[0m \u001b[0;32mnot\u001b[0m \u001b[0;32min\u001b[0m \u001b[0mself\u001b[0m\u001b[0;34m.\u001b[0m\u001b[0m_accessors\u001b[0m\u001b[0;34m\u001b[0m\u001b[0;34m\u001b[0m\u001b[0m\n\u001b[1;32m   5986\u001b[0m             \u001b[0;32mand\u001b[0m \u001b[0mself\u001b[0m\u001b[0;34m.\u001b[0m\u001b[0m_info_axis\u001b[0m\u001b[0;34m.\u001b[0m\u001b[0m_can_hold_identifiers_and_holds_name\u001b[0m\u001b[0;34m(\u001b[0m\u001b[0mname\u001b[0m\u001b[0;34m)\u001b[0m\u001b[0;34m\u001b[0m\u001b[0;34m\u001b[0m\u001b[0m\n\u001b[1;32m   5987\u001b[0m         ):\n\u001b[1;32m   5988\u001b[0m             \u001b[0;32mreturn\u001b[0m \u001b[0mself\u001b[0m\u001b[0;34m[\u001b[0m\u001b[0mname\u001b[0m\u001b[0;34m]\u001b[0m\u001b[0;34m\u001b[0m\u001b[0;34m\u001b[0m\u001b[0m\n\u001b[0;32m-> 5989\u001b[0;31m         \u001b[0;32mreturn\u001b[0m \u001b[0mobject\u001b[0m\u001b[0;34m.\u001b[0m\u001b[0m__getattribute__\u001b[0m\u001b[0;34m(\u001b[0m\u001b[0mself\u001b[0m\u001b[0;34m,\u001b[0m \u001b[0mname\u001b[0m\u001b[0;34m)\u001b[0m\u001b[0;34m\u001b[0m\u001b[0;34m\u001b[0m\u001b[0m\n\u001b[0m",
      "\u001b[0;31mAttributeError\u001b[0m: 'Series' object has no attribute 'type'"
     ]
    }
   ],
   "source": [
    "def str_to_list(x):\n",
    "    values = x.replace(',','').replace('[','').replace(']','')\n",
    "    l = [int(val) for val in values]\n",
    "    return l\n",
    "\n",
    "t = df.head(1)['Temperature (F)']\n",
    "print(t[0], t.dtype)\n",
    "\n",
    "list_columns = ['Temperature (F)', 'Dewpoint (F)', 'Humidity (%)', 'Wind Speed (mph)', 'Pressure (in)', 'Percipitation (in)']\n",
    "\n",
    "for col in list_columns:\n",
    "    if (df[col].dtype == 'object'):\n",
    "        df[col] = df[col].apply(str_to_list)\n",
    "    \n",
    "    new_columns = [col + str(x) for x in range(12)]\n",
    "    print(new_columns)\n",
    "    df2 = pd.DataFrame(df[col].tolist(), columns=new_columns)\n",
    "    print(df2[new_columns])"
   ]
  },
  {
   "cell_type": "code",
   "execution_count": null,
   "metadata": {},
   "outputs": [],
   "source": [
    "from sklearn.model_selection import train_test_split\n",
    "\n",
    "target_var = 'Y-Value_encoded'\n",
    "feature_var = ['Season Started_enc', 'Locations Affected_enc', 'Temperature (F)', 'Dewpoint (F)', 'Humidity (%)', 'Wind Speed (mph)', 'Pressure (in)', 'Percipitation (in)', 'Type Of Location_enc']\n",
    "X_train, X_test, y_train, y_test = train_test_split(df[feature_var], df[target_var], test_size=0.2, shuffle=True, random_state=101)"
   ]
  },
  {
   "cell_type": "code",
   "execution_count": null,
   "metadata": {},
   "outputs": [],
   "source": [
    "from sklearn.naive_bayes import GaussianNB\n",
    "from sklearn.model_selection import cross_val_score\n",
    "\n",
    "model = GaussianNB()\n",
    "model.fit(X_train, y_train) "
   ]
  },
  {
   "cell_type": "code",
   "execution_count": null,
   "metadata": {},
   "outputs": [],
   "source": []
  }
 ],
 "metadata": {
  "kernelspec": {
   "display_name": "Python 3 (ipykernel)",
   "language": "python",
   "name": "python3"
  },
  "language_info": {
   "codemirror_mode": {
    "name": "ipython",
    "version": 3
   },
   "file_extension": ".py",
   "mimetype": "text/x-python",
   "name": "python",
   "nbconvert_exporter": "python",
   "pygments_lexer": "ipython3",
   "version": "3.8.10"
  }
 },
 "nbformat": 4,
 "nbformat_minor": 4
}
