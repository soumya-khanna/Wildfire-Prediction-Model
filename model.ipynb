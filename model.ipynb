{
 "cells": [
  {
   "cell_type": "code",
   "execution_count": 18,
   "metadata": {},
   "outputs": [
    {
     "data": {
      "text/plain": [
       "(305, 13)"
      ]
     },
     "execution_count": 18,
     "metadata": {},
     "output_type": "execute_result"
    }
   ],
   "source": [
    "import numpy as np\n",
    "import pandas as pd\n",
    "import ast\n",
    "import re\n",
    "\n",
    "fname='MSCI446_ Data - Sheet1.csv'\n",
    "\n",
    "def convert_to_numpy_array(string: str):\n",
    "    # Verify string is written like a python list\n",
    "    stripped = string.strip()\n",
    "    pattern = r\"\\[(.*)\\]\"\n",
    "    match = re.match(pattern, stripped)\n",
    "    if not match:\n",
    "        raise NotImplementedError(f\"{stripped}\")\n",
    "    # Group 1 captures the content inside the square brackets\n",
    "    contents = match.group(1)\n",
    "    \n",
    "    try:\n",
    "        # Use ast.literal_eval to safely evaluate string literals\n",
    "        evaluated = ast.literal_eval(stripped)\n",
    "        if type(evaluated) is not list:\n",
    "            raise NotImplementedError()\n",
    "        # series = pd.Series(evaluated)\n",
    "        return np.array(evaluated)\n",
    "    except (SyntaxError, ValueError):  # this occurs with the \"Condition\" column\n",
    "        # If parsing as a list fails, split the contents within the square brackets by comma, \n",
    "        # interpret each value as a string and strip whitespace\n",
    "        return np.array([ item.strip() for item in contents.split(',') ])\n",
    "\n",
    "# Read CSV file with the custom function\n",
    "numerical_vector_column_labels = ['Temperature (F)', 'Dewpoint (F)', 'Humidity (%)', 'Wind Speed (mph)', 'Pressure (in)', 'Percipitation (in)']\n",
    "categorical_vector_column_labels = [\"Condition\"]\n",
    "vector_column_labels = numerical_vector_column_labels + categorical_vector_column_labels\n",
    "\n",
    "# Create a converters dictionary mapping each column to the converter function\n",
    "converters = {col: convert_to_numpy_array for col in vector_column_labels}\n",
    "df = pd.read_csv(fname, converters=converters)\n",
    "df.shape"
   ]
  },
  {
   "cell_type": "code",
   "execution_count": 19,
   "metadata": {},
   "outputs": [
    {
     "name": "stdout",
     "output_type": "stream",
     "text": [
      "           Fire Name  Year Season Started Locations Affected  \\\n",
      "0         Cagua Fire  2020         Winter             Aragua   \n",
      "1      Vietnam Fires  2019         Summer            Da Nang   \n",
      "2    Chile Wildfires  2024         Winter          O'Higgins   \n",
      "3    Chile Wildfires  2024         Winter         Valparaíso   \n",
      "4    Chile Wildfires  2023         Winter              Maule   \n",
      "..               ...   ...            ...                ...   \n",
      "300              NaN  2020         Summer                 MB   \n",
      "301              NaN  2020         Summer                 MB   \n",
      "302              NaN  2020           Fall                 MB   \n",
      "303              NaN  2020         Summer                 NT   \n",
      "304              NaN  2020         Summer                 NT   \n",
      "\n",
      "                                      Temperature (F)  \\\n",
      "0    [75, 75, 73, 73, 72, 72, 71, 72, 72, 78, 82, 81]   \n",
      "1    [79, 81, 81, 82, 84, 86, 88, 90, 91, 93, 95, 97]   \n",
      "2    [78, 78, 78, 80, 82, 78, 77, 77, 77, 75, 73, 73]   \n",
      "3    [77, 81, 84, 88, 90, 90, 88, 86, 84, 81, 79, 75]   \n",
      "4    [72, 73, 73, 73, 75, 77, 75, 73, 70, 68, 64, 63]   \n",
      "..                                                ...   \n",
      "300  [54, 57, 59, 64, 68, 68, 72, 72, 73, 75, 75, 75]   \n",
      "301  [59, 59, 57, 59, 59, 66, 70, 72, 72, 73, 73, 72]   \n",
      "302  [37, 37, 37, 37, 39, 39, 41, 41, 43, 41, 39, 37]   \n",
      "303  [45, 45, 48, 52, 55, 55, 59, 61, 63, 63, 64, 63]   \n",
      "304  [63, 64, 66, 70, 73, 75, 79, 81, 82, 86, 88, 90]   \n",
      "\n",
      "                                         Dewpoint (F)  \\\n",
      "0    [75, 75, 76, 76, 76, 76, 76, 76, 75, 77, 77, 77]   \n",
      "1    [72, 73, 73, 73, 73, 75, 75, 75, 75, 75, 77, 77]   \n",
      "2      [22, 8, 12, 19, 20, 18, 16, 13, 7, 41, 38, 22]   \n",
      "3    [55, 54, 55, 54, 55, 55, 52, 54, 54, 54, 54, 54]   \n",
      "4    [59, 59, 59, 59, 59, 59, 57, 55, 55, 54, 52, 52]   \n",
      "..                                                ...   \n",
      "300    [0, 0, 57, 55, 52, 48, 46, 46, 48, 45, 45, 45]   \n",
      "301  [59, 59, 57, 59, 59, 64, 63, 59, 61, 63, 64, 61]   \n",
      "302  [37, 37, 36, 36, 36, 36, 36, 34, 34, 34, 36, 32]   \n",
      "303  [34, 32, 36, 36, 30, 34, 32, 36, 34, 34, 34, 36]   \n",
      "304  [55, 57, 57, 59, 59, 61, 61, 63, 61, 59, 59, 59]   \n",
      "\n",
      "                                          Humidity (%)  \\\n",
      "0     [85, 86, 86, 88, 90, 90, 94, 89, 74, 62, 55, 53]   \n",
      "1     [78, 79, 79, 74, 70, 70, 66, 62, 59, 56, 56, 53]   \n",
      "2     [74, 79, 84, 79, 74, 79, 83, 83, 83, 94, 94, 89]   \n",
      "3     [47, 39, 37, 31, 31, 31, 31, 31, 35, 39, 42, 47]   \n",
      "4     [64, 61, 61, 57, 57, 54, 53, 53, 60, 60, 64, 68]   \n",
      "..                                                 ...   \n",
      "300     [0, 0, 94, 73, 56, 49, 41, 41, 41, 34, 34, 34]   \n",
      "301  [100, 100, 100, 100, 100, 94, 78, 64, 69, 69, ...   \n",
      "302  [100, 100, 93, 93, 87, 87, 81, 76, 70, 76, 87,...   \n",
      "303   [66, 61, 62, 54, 38, 44, 36, 39, 34, 34, 32, 37]   \n",
      "304   [77, 77, 73, 68, 61, 61, 54, 54, 48, 40, 38, 36]   \n",
      "\n",
      "                                     Wind Speed (mph)  \\\n",
      "0                [2, 3, 3, 3, 4, 4, 2, 4, 2, 4, 6, 6]   \n",
      "1                [5, 6, 2, 5, 7, 5, 5, 7, 5, 6, 5, 2]   \n",
      "2    [18, 18, 20, 21, 20, 20, 20, 20, 17, 10, 11, 11]   \n",
      "3        [3, 6, 8, 12, 13, 15, 16, 18, 15, 15, 13, 9]   \n",
      "4    [13, 17, 18, 17, 21, 23, 21, 23, 18, 20, 17, 15]   \n",
      "..                                                ...   \n",
      "300              [0, 0, 0, 0, 0, 0, 0, 0, 0, 0, 0, 0]   \n",
      "301              [3, 8, 9, 5, 9, 7, 2, 5, 2, 9, 7, 5]   \n",
      "302   [10, 10, 16, 14, 13, 8, 12, 13, 10, 10, 10, 10]   \n",
      "303             [8, 10, 2, 5, 3, 2, 3, 3, 3, 7, 8, 9]   \n",
      "304          [8, 9, 8, 7, 10, 10, 12, 9, 10, 7, 7, 5]   \n",
      "\n",
      "                                         Pressure (in)  \\\n",
      "0    [29.8, 29.83, 29.83, 29.86, 29.86, 29.8, 29.83...   \n",
      "1    [29.64, 29.64, 29.64, 29.64, 29.67, 29.67, 29....   \n",
      "2    [30.09, 30.09, 30.06, 30.06, 30.06, 30.06, 30....   \n",
      "3    [28.31, 28.31, 28.28, 28.25, 28.25, 28.22, 28....   \n",
      "4    [29.87, 29.84, 29.84, 29.84, 29.81, 29.81, 29....   \n",
      "..                                                 ...   \n",
      "300  [28.99, 29.0, 29.0, 29.01, 29.0, 28.99, 28.99,...   \n",
      "301  [28.49, 28.48, 28.5, 28.48, 28.46, 28.49, 28.4...   \n",
      "302  [28.7, 28.76, 28.81, 28.86, 28.89, 28.92, 28.9...   \n",
      "303  [29.19, 29.2, 29.21, 29.22, 29.22, 29.22, 29.2...   \n",
      "304  [29.51, 29.5, 29.49, 29.48, 29.46, 29.45, 29.4...   \n",
      "\n",
      "                       Percipitation (in)  \\\n",
      "0    [0, 0, 0, 0, 0, 0, 0, 0, 0, 0, 0, 0]   \n",
      "1    [0, 0, 0, 0, 0, 0, 0, 0, 0, 0, 0, 0]   \n",
      "2    [0, 0, 0, 0, 0, 0, 0, 0, 0, 0, 0, 0]   \n",
      "3    [0, 0, 0, 0, 0, 0, 0, 0, 0, 0, 0, 0]   \n",
      "4    [0, 0, 0, 0, 0, 0, 0, 0, 0, 0, 0, 0]   \n",
      "..                                    ...   \n",
      "300  [0, 0, 0, 0, 0, 0, 0, 0, 0, 0, 0, 0]   \n",
      "301  [0, 0, 0, 0, 0, 0, 0, 0, 0, 0, 0, 0]   \n",
      "302  [0, 0, 0, 0, 0, 0, 0, 0, 0, 0, 0, 0]   \n",
      "303  [0, 0, 0, 0, 0, 0, 0, 0, 0, 0, 0, 0]   \n",
      "304  [0, 0, 0, 0, 0, 0, 0, 0, 0, 0, 0, 0]   \n",
      "\n",
      "                                             Condition  Type Of Location  \\\n",
      "0    [Fair, Fair, Partly Cloudy, Fair, Fair, Partly...         Mounatins   \n",
      "1    [Fair, Fair, Fair, Fair, Windy, Windy, Windy, ...     Coastal Hills   \n",
      "2    [Fair, Partly Cloudy, Mostly Cloudy, Fair, Par...         Mountains   \n",
      "3    [Fair, Fair, Fair, Fair, Fair, Fair, Fair, Fai...  Coastal Mountain   \n",
      "4    [Fair, Fair, Fair, Fair, Windy, Windy, Windy, ...   Costal Mountain   \n",
      "..                                                 ...               ...   \n",
      "300  [Fog, Partly Cloudy, Fair, Fair, Partly Cloudy...               NaN   \n",
      "301  [Thunder, Thunder, Thunder, Light Rain with Th...               NaN   \n",
      "302  [Cloudy, Mist, Cloudy, Cloudy, Light Rain, Clo...               NaN   \n",
      "303  [Mostly Cloudy, Mostly Cloudy, Partly Cloudy, ...               NaN   \n",
      "304  [Partly Cloudy, Fair, Fair, Fair, Fair, Fair, ...               NaN   \n",
      "\n",
      "     Y-Value  \n",
      "0       Fire  \n",
      "1       Fire  \n",
      "2       Fire  \n",
      "3       Fire  \n",
      "4       Fire  \n",
      "..       ...  \n",
      "300  No Fire  \n",
      "301  No Fire  \n",
      "302  No Fire  \n",
      "303  No Fire  \n",
      "304  No Fire  \n",
      "\n",
      "[305 rows x 13 columns]\n"
     ]
    }
   ],
   "source": [
    "print(df)"
   ]
  },
  {
   "cell_type": "markdown",
   "metadata": {},
   "source": [
    "## Verifying Data Ain't Trash"
   ]
  },
  {
   "cell_type": "markdown",
   "metadata": {},
   "source": [
    "### Categorical Stuff"
   ]
  },
  {
   "cell_type": "code",
   "execution_count": 20,
   "metadata": {},
   "outputs": [],
   "source": [
    "categorical_column_labels = [\"Season Started\", \"Locations Affected\", \"Condition\", \"Type Of Location\", \"Y-Value\"]\n",
    "categorical_scalar_column_labels = [\"Season Started\", \"Locations Affected\", \"Type Of Location\", \"Y-Value\"]"
   ]
  },
  {
   "cell_type": "code",
   "execution_count": 21,
   "metadata": {},
   "outputs": [
    {
     "name": "stdout",
     "output_type": "stream",
     "text": [
      "Season Started\n",
      "Summer    135\n",
      "Spring     75\n",
      "Fall       49\n",
      "Winter     46\n",
      "Name: count, dtype: int64\n",
      "\n",
      "Locations Affected\n",
      "California                23\n",
      "MB                        19\n",
      "BC                        19\n",
      "AB                        18\n",
      "Yellowknife               12\n",
      "                          ..\n",
      "North Rhine-Westphalia     1\n",
      "South Holland              1\n",
      "Hailey                     1\n",
      "Yosemite National Park     1\n",
      "Santa Rosa                 1\n",
      "Name: count, Length: 110, dtype: int64\n",
      "\n",
      "Type Of Location\n",
      "Forest               77\n",
      "Mountains            59\n",
      "Hills                16\n",
      "Arctic               11\n",
      "Coastal Forest       10\n",
      "Coastal Mountains    10\n",
      "Rainforest            8\n",
      "Flat                  8\n",
      "Plains                6\n",
      "Grasslands            6\n",
      "Costal Mountain       5\n",
      "Desert                4\n",
      "Swamp                 3\n",
      "Costal Forest         3\n",
      "Coastal Hills         3\n",
      "Coastal Lowland       2\n",
      "Coastal Mountain      1\n",
      "Mounatins             1\n",
      "Costal Mountains      1\n",
      "Coastal               1\n",
      "Name: count, dtype: int64\n",
      "\n",
      "Y-Value\n",
      "Fire        155\n",
      "No Fire      93\n",
      "Not Fire     57\n",
      "Name: count, dtype: int64\n",
      "\n"
     ]
    }
   ],
   "source": [
    "for cl in categorical_scalar_column_labels:\n",
    "    print(df[cl].value_counts())\n",
    "    print()"
   ]
  },
  {
   "cell_type": "markdown",
   "metadata": {},
   "source": [
    "### Vector Stuff"
   ]
  },
  {
   "cell_type": "code",
   "execution_count": 22,
   "metadata": {},
   "outputs": [],
   "source": [
    "vector_columns = df[vector_column_labels]"
   ]
  },
  {
   "cell_type": "code",
   "execution_count": 23,
   "metadata": {},
   "outputs": [
    {
     "data": {
      "text/plain": [
       "True"
      ]
     },
     "execution_count": 23,
     "metadata": {},
     "output_type": "execute_result"
    }
   ],
   "source": [
    "# Verifying all are ndarray\n",
    "is_ndarray = vector_columns.map(lambda x: isinstance(x, np.ndarray))\n",
    "is_ndarray.all().all()"
   ]
  },
  {
   "cell_type": "code",
   "execution_count": 24,
   "metadata": {},
   "outputs": [
    {
     "data": {
      "text/plain": [
       "True"
      ]
     },
     "execution_count": 24,
     "metadata": {},
     "output_type": "execute_result"
    }
   ],
   "source": [
    "desired_shape = (12,)\n",
    "\n",
    "shape = vector_columns.map(lambda x: x.shape)\n",
    "# shape == desired_shape  # INVALID SYNTAX\n",
    "is_desired_shape = shape.map(lambda x: x == desired_shape)\n",
    "\n",
    "# Shorter version\n",
    "is_desired_shape = vector_columns.map(lambda x: x.shape == desired_shape)\n",
    "\n",
    "# Boolean series containing whether all vectors in that row are of the desired shape\n",
    "valid_shape_rows = is_desired_shape.all(axis=1)\n",
    "\n",
    "# Whether all vectors are of desired shape\n",
    "is_desired_shape.all().all()"
   ]
  },
  {
   "cell_type": "markdown",
   "metadata": {},
   "source": [
    "## Generating Stats"
   ]
  },
  {
   "cell_type": "markdown",
   "metadata": {},
   "source": [
    "Generate minimum, average, and maximum values for specified columns"
   ]
  },
  {
   "cell_type": "code",
   "execution_count": 25,
   "metadata": {},
   "outputs": [
    {
     "name": "stdout",
     "output_type": "stream",
     "text": [
      "           Fire Name  Year Season Started Locations Affected  \\\n",
      "0         Cagua Fire  2020         Winter             Aragua   \n",
      "1      Vietnam Fires  2019         Summer            Da Nang   \n",
      "2    Chile Wildfires  2024         Winter          O'Higgins   \n",
      "3    Chile Wildfires  2024         Winter         Valparaíso   \n",
      "4    Chile Wildfires  2023         Winter              Maule   \n",
      "..               ...   ...            ...                ...   \n",
      "300              NaN  2020         Summer                 MB   \n",
      "301              NaN  2020         Summer                 MB   \n",
      "302              NaN  2020           Fall                 MB   \n",
      "303              NaN  2020         Summer                 NT   \n",
      "304              NaN  2020         Summer                 NT   \n",
      "\n",
      "                                      Temperature (F)  Temperature (F)_min  \\\n",
      "0    [75, 75, 73, 73, 72, 72, 71, 72, 72, 78, 82, 81]                 71.0   \n",
      "1    [79, 81, 81, 82, 84, 86, 88, 90, 91, 93, 95, 97]                 79.0   \n",
      "2    [78, 78, 78, 80, 82, 78, 77, 77, 77, 75, 73, 73]                 73.0   \n",
      "3    [77, 81, 84, 88, 90, 90, 88, 86, 84, 81, 79, 75]                 75.0   \n",
      "4    [72, 73, 73, 73, 75, 77, 75, 73, 70, 68, 64, 63]                 63.0   \n",
      "..                                                ...                  ...   \n",
      "300  [54, 57, 59, 64, 68, 68, 72, 72, 73, 75, 75, 75]                 54.0   \n",
      "301  [59, 59, 57, 59, 59, 66, 70, 72, 72, 73, 73, 72]                 57.0   \n",
      "302  [37, 37, 37, 37, 39, 39, 41, 41, 43, 41, 39, 37]                 37.0   \n",
      "303  [45, 45, 48, 52, 55, 55, 59, 61, 63, 63, 64, 63]                 45.0   \n",
      "304  [63, 64, 66, 70, 73, 75, 79, 81, 82, 86, 88, 90]                 63.0   \n",
      "\n",
      "     Temperature (F)_avg  Temperature (F)_max  \\\n",
      "0              74.666667                 82.0   \n",
      "1              87.250000                 97.0   \n",
      "2              77.166667                 82.0   \n",
      "3              83.583333                 90.0   \n",
      "4              71.333333                 77.0   \n",
      "..                   ...                  ...   \n",
      "300            67.666667                 75.0   \n",
      "301            65.916667                 73.0   \n",
      "302            39.000000                 43.0   \n",
      "303            56.083333                 64.0   \n",
      "304            76.416667                 90.0   \n",
      "\n",
      "                                         Dewpoint (F)  Dewpoint (F)_min  ...  \\\n",
      "0    [75, 75, 76, 76, 76, 76, 76, 76, 75, 77, 77, 77]              75.0  ...   \n",
      "1    [72, 73, 73, 73, 73, 75, 75, 75, 75, 75, 77, 77]              72.0  ...   \n",
      "2      [22, 8, 12, 19, 20, 18, 16, 13, 7, 41, 38, 22]               7.0  ...   \n",
      "3    [55, 54, 55, 54, 55, 55, 52, 54, 54, 54, 54, 54]              52.0  ...   \n",
      "4    [59, 59, 59, 59, 59, 59, 57, 55, 55, 54, 52, 52]              52.0  ...   \n",
      "..                                                ...               ...  ...   \n",
      "300    [0, 0, 57, 55, 52, 48, 46, 46, 48, 45, 45, 45]               0.0  ...   \n",
      "301  [59, 59, 57, 59, 59, 64, 63, 59, 61, 63, 64, 61]              57.0  ...   \n",
      "302  [37, 37, 36, 36, 36, 36, 36, 34, 34, 34, 36, 32]              32.0  ...   \n",
      "303  [34, 32, 36, 36, 30, 34, 32, 36, 34, 34, 34, 36]              30.0  ...   \n",
      "304  [55, 57, 57, 59, 59, 61, 61, 63, 61, 59, 59, 59]              55.0  ...   \n",
      "\n",
      "     Pressure (in)_min  Pressure (in)_avg Pressure (in)_max  \\\n",
      "0                29.80          29.835000             29.86   \n",
      "1                29.64          29.652500             29.67   \n",
      "2                30.03          30.067500             30.09   \n",
      "3                28.22          28.252500             28.31   \n",
      "4                29.78          29.822500             29.87   \n",
      "..                 ...                ...               ...   \n",
      "300              28.95          28.982500             29.01   \n",
      "301              28.46          28.486667             28.50   \n",
      "302              28.70          28.914167             29.06   \n",
      "303              29.19          29.209167             29.22   \n",
      "304              29.37          29.442500             29.51   \n",
      "\n",
      "                       Percipitation (in)  Percipitation (in)_min  \\\n",
      "0    [0, 0, 0, 0, 0, 0, 0, 0, 0, 0, 0, 0]                     0.0   \n",
      "1    [0, 0, 0, 0, 0, 0, 0, 0, 0, 0, 0, 0]                     0.0   \n",
      "2    [0, 0, 0, 0, 0, 0, 0, 0, 0, 0, 0, 0]                     0.0   \n",
      "3    [0, 0, 0, 0, 0, 0, 0, 0, 0, 0, 0, 0]                     0.0   \n",
      "4    [0, 0, 0, 0, 0, 0, 0, 0, 0, 0, 0, 0]                     0.0   \n",
      "..                                    ...                     ...   \n",
      "300  [0, 0, 0, 0, 0, 0, 0, 0, 0, 0, 0, 0]                     0.0   \n",
      "301  [0, 0, 0, 0, 0, 0, 0, 0, 0, 0, 0, 0]                     0.0   \n",
      "302  [0, 0, 0, 0, 0, 0, 0, 0, 0, 0, 0, 0]                     0.0   \n",
      "303  [0, 0, 0, 0, 0, 0, 0, 0, 0, 0, 0, 0]                     0.0   \n",
      "304  [0, 0, 0, 0, 0, 0, 0, 0, 0, 0, 0, 0]                     0.0   \n",
      "\n",
      "     Percipitation (in)_avg Percipitation (in)_max  \\\n",
      "0                       0.0                    0.0   \n",
      "1                       0.0                    0.0   \n",
      "2                       0.0                    0.0   \n",
      "3                       0.0                    0.0   \n",
      "4                       0.0                    0.0   \n",
      "..                      ...                    ...   \n",
      "300                     0.0                    0.0   \n",
      "301                     0.0                    0.0   \n",
      "302                     0.0                    0.0   \n",
      "303                     0.0                    0.0   \n",
      "304                     0.0                    0.0   \n",
      "\n",
      "                                             Condition  Type Of Location  \\\n",
      "0    [Fair, Fair, Partly Cloudy, Fair, Fair, Partly...         Mounatins   \n",
      "1    [Fair, Fair, Fair, Fair, Windy, Windy, Windy, ...     Coastal Hills   \n",
      "2    [Fair, Partly Cloudy, Mostly Cloudy, Fair, Par...         Mountains   \n",
      "3    [Fair, Fair, Fair, Fair, Fair, Fair, Fair, Fai...  Coastal Mountain   \n",
      "4    [Fair, Fair, Fair, Fair, Windy, Windy, Windy, ...   Costal Mountain   \n",
      "..                                                 ...               ...   \n",
      "300  [Fog, Partly Cloudy, Fair, Fair, Partly Cloudy...               NaN   \n",
      "301  [Thunder, Thunder, Thunder, Light Rain with Th...               NaN   \n",
      "302  [Cloudy, Mist, Cloudy, Cloudy, Light Rain, Clo...               NaN   \n",
      "303  [Mostly Cloudy, Mostly Cloudy, Partly Cloudy, ...               NaN   \n",
      "304  [Partly Cloudy, Fair, Fair, Fair, Fair, Fair, ...               NaN   \n",
      "\n",
      "     Y-Value  \n",
      "0       Fire  \n",
      "1       Fire  \n",
      "2       Fire  \n",
      "3       Fire  \n",
      "4       Fire  \n",
      "..       ...  \n",
      "300  No Fire  \n",
      "301  No Fire  \n",
      "302  No Fire  \n",
      "303  No Fire  \n",
      "304  No Fire  \n",
      "\n",
      "[305 rows x 31 columns]\n"
     ]
    }
   ],
   "source": [
    "# Columns to generate stats for\n",
    "columns_to_process = numerical_vector_column_labels\n",
    "\n",
    "# Function to compute min, avg, and max and return as a Series\n",
    "def compute_stats(arr):\n",
    "    return pd.Series([np.min(arr), np.mean(arr), np.max(arr)], index=['min', 'avg', 'max'])\n",
    "\n",
    "# New DataFrame to store results\n",
    "new_df = pd.DataFrame()\n",
    "\n",
    "# Iterate over specified columns\n",
    "for col in df.columns:\n",
    "    # If the column contains numpy arrays and is in the columns to process\n",
    "    if col in columns_to_process:  # and np.issubdtype(df[col].dtype, np.ndarray)\n",
    "        # Compute statistics for each numpy array element in the column\n",
    "        stats = df[col].apply(compute_stats)\n",
    "        # Rename columns to include the statistics\n",
    "        stats.columns = [f\"{col}_min\", f\"{col}_avg\", f\"{col}_max\"]\n",
    "        # Concatenate the statistics columns with the original column and insert them into the new DataFrame\n",
    "        new_df = pd.concat([new_df, df[col], stats], axis=1)\n",
    "    else:\n",
    "        # If not a numpy array column or not in columns to process, copy it to the new DataFrame\n",
    "        new_df[col] = df[col]\n",
    "\n",
    "print(new_df)\n"
   ]
  },
  {
   "cell_type": "code",
   "execution_count": 26,
   "metadata": {},
   "outputs": [],
   "source": [
    "df = new_df"
   ]
  },
  {
   "cell_type": "markdown",
   "metadata": {},
   "source": [
    "## Data Preparation"
   ]
  },
  {
   "cell_type": "markdown",
   "metadata": {},
   "source": [
    "### 1. Dealing with missing values"
   ]
  },
  {
   "cell_type": "markdown",
   "metadata": {},
   "source": [
    "Checking element values"
   ]
  },
  {
   "cell_type": "code",
   "execution_count": 27,
   "metadata": {},
   "outputs": [
    {
     "data": {
      "text/plain": [
       "Type Of Location    70\n",
       "dtype: int64"
      ]
     },
     "execution_count": 27,
     "metadata": {},
     "output_type": "execute_result"
    }
   ],
   "source": [
    "# Only select for columns where we care if values are missing (do not care if we are missing Fire Name)\n",
    "isna = df.loc[:, \"Year\":\"Y-Value\"].isna()\n",
    "isna.sum()[isna.any()]"
   ]
  },
  {
   "cell_type": "markdown",
   "metadata": {},
   "source": [
    "Checking contents for numpy arrays (numerical only)"
   ]
  },
  {
   "cell_type": "code",
   "execution_count": 28,
   "metadata": {},
   "outputs": [
    {
     "data": {
      "text/plain": [
       "True"
      ]
     },
     "execution_count": 28,
     "metadata": {},
     "output_type": "execute_result"
    }
   ],
   "source": [
    "not df[numerical_vector_column_labels].map(lambda x: np.any(np.isnan(x))).any().any()"
   ]
  },
  {
   "cell_type": "markdown",
   "metadata": {},
   "source": [
    "### 2. Dealing with duplicates"
   ]
  },
  {
   "cell_type": "markdown",
   "metadata": {},
   "source": [
    "TBD"
   ]
  },
  {
   "cell_type": "markdown",
   "metadata": {},
   "source": [
    "### 3. Dealing with categorical data"
   ]
  },
  {
   "cell_type": "code",
   "execution_count": 29,
   "metadata": {},
   "outputs": [],
   "source": [
    "from sklearn.preprocessing import LabelEncoder\n",
    "le = LabelEncoder()"
   ]
  },
  {
   "cell_type": "code",
   "execution_count": 30,
   "metadata": {},
   "outputs": [
    {
     "name": "stdout",
     "output_type": "stream",
     "text": [
      "Y-Value\n",
      "0    155\n",
      "1     93\n",
      "2     57\n",
      "Name: count, dtype: int64\n",
      "Y-Value\n",
      "Fire        155\n",
      "No Fire      93\n",
      "Not Fire     57\n",
      "Name: count, dtype: int64\n"
     ]
    }
   ],
   "source": [
    "unencoded_df = df.copy(deep=True)\n",
    "# Columns containing single categorical values\n",
    "for cl in categorical_scalar_column_labels:\n",
    "    df[cl] = le.fit_transform(df[cl])\n",
    "\n",
    "# Columns containing categorical vector values\n",
    "for cl in categorical_vector_column_labels:\n",
    "    le.fit(np.concatenate(df['Condition']))\n",
    "    df[cl] = df[cl].apply(le.transform)\n",
    "print(df['Y-Value'].value_counts())\n",
    "print(unencoded_df['Y-Value'].value_counts())"
   ]
  },
  {
   "cell_type": "markdown",
   "metadata": {},
   "source": [
    "### 4. Dealing with Outliers"
   ]
  },
  {
   "cell_type": "markdown",
   "metadata": {},
   "source": [
    "TBD"
   ]
  },
  {
   "cell_type": "markdown",
   "metadata": {},
   "source": [
    "### 5. Partitioning a data set"
   ]
  },
  {
   "cell_type": "code",
   "execution_count": 43,
   "metadata": {},
   "outputs": [
    {
     "data": {
      "text/plain": [
       "Y-Value_encoded\n",
       "1    155\n",
       "0    150\n",
       "Name: count, dtype: int64"
      ]
     },
     "execution_count": 43,
     "metadata": {},
     "output_type": "execute_result"
    }
   ],
   "source": [
    "# Replace y value\n",
    "# with pd.option_context('future.no_silent_downcasting', True):\n",
    "fire_map = {'Fire': 1, 'Fire\\r\\n': 1, 'No Fire': 0, 'Not Fire': 0}\n",
    "coded_df = pd.DataFrame()\n",
    "coded_df['Y-Value_encoded'] = unencoded_df['Y-Value'].replace(fire_map).astype(int)\n",
    "coded_df['Y-Value_encoded'].value_counts()"
   ]
  },
  {
   "cell_type": "code",
   "execution_count": 55,
   "metadata": {},
   "outputs": [
    {
     "data": {
      "text/plain": [
       "Season Started_enc\n",
       "2    135\n",
       "1     75\n",
       "0     49\n",
       "3     46\n",
       "Name: count, dtype: int64"
      ]
     },
     "execution_count": 55,
     "metadata": {},
     "output_type": "execute_result"
    }
   ],
   "source": [
    "# Replace seasons\n",
    "# a = unencoded_df['Season Started'].unique()\n",
    "# replace_dict = {k:v for v, k in enumerate(a)}\n",
    "# print(replace_dict)\n",
    "# coded_df['Season Started_enc'] = unencoded_df['Season Started'].replace(replace_dict)\n",
    "coded_df['Season Started_enc'] = df['Season Started']\n",
    "coded_df['Season Started_enc'].value_counts()"
   ]
  },
  {
   "cell_type": "code",
   "execution_count": 56,
   "metadata": {},
   "outputs": [
    {
     "data": {
      "text/plain": [
       "Locations Affected_enc\n",
       "20     23\n",
       "42     19\n",
       "13     19\n",
       "0      18\n",
       "108    12\n",
       "       ..\n",
       "62      1\n",
       "89      1\n",
       "31      1\n",
       "109     1\n",
       "84      1\n",
       "Name: count, Length: 110, dtype: int64"
      ]
     },
     "execution_count": 56,
     "metadata": {},
     "output_type": "execute_result"
    }
   ],
   "source": [
    "# Locations Affected\n",
    "# print(df['Locations Affected'].value_counts())\n",
    "# b = df['Locations Affected'].unique()\n",
    "# replace_dict = {k:v for v, k in enumerate(b)}\n",
    "# print(replace_dict)\n",
    "# coded_df['Locations Affected_enc'] = unencoded_df['Locations Affected'].replace(replace_dict)\n",
    "coded_df['Locations Affected_enc'] = df['Locations Affected']\n",
    "coded_df['Locations Affected_enc'].value_counts()"
   ]
  },
  {
   "cell_type": "code",
   "execution_count": 58,
   "metadata": {},
   "outputs": [
    {
     "data": {
      "text/plain": [
       "Type Of Location_enc\n",
       "12    77\n",
       "20    70\n",
       "16    59\n",
       "14    16\n",
       "0     11\n",
       "6     10\n",
       "2     10\n",
       "11     8\n",
       "18     8\n",
       "17     6\n",
       "13     6\n",
       "8      5\n",
       "10     4\n",
       "19     3\n",
       "7      3\n",
       "3      3\n",
       "4      2\n",
       "5      1\n",
       "15     1\n",
       "9      1\n",
       "1      1\n",
       "Name: count, dtype: int64"
      ]
     },
     "execution_count": 58,
     "metadata": {},
     "output_type": "execute_result"
    }
   ],
   "source": [
    "coded_df['Type Of Location_enc'] = df['Type Of Location']\n",
    "coded_df['Type Of Location_enc'].value_counts()"
   ]
  },
  {
   "cell_type": "code",
   "execution_count": 77,
   "metadata": {},
   "outputs": [
    {
     "name": "stdout",
     "output_type": "stream",
     "text": [
      "     Temperature (F)0  Temperature (F)1  Temperature (F)2  Temperature (F)3  \\\n",
      "0                75.0              75.0              73.0              73.0   \n",
      "1                79.0              81.0              81.0              82.0   \n",
      "2                78.0              78.0              78.0              80.0   \n",
      "3                77.0              81.0              84.0              88.0   \n",
      "4                72.0              73.0              73.0              73.0   \n",
      "..                ...               ...               ...               ...   \n",
      "300              54.0              57.0              59.0              64.0   \n",
      "301              59.0              59.0              57.0              59.0   \n",
      "302              37.0              37.0              37.0              37.0   \n",
      "303              45.0              45.0              48.0              52.0   \n",
      "304              63.0              64.0              66.0              70.0   \n",
      "\n",
      "     Temperature (F)4  Temperature (F)5  Temperature (F)6  Temperature (F)7  \\\n",
      "0                72.0              72.0              71.0              72.0   \n",
      "1                84.0              86.0              88.0              90.0   \n",
      "2                82.0              78.0              77.0              77.0   \n",
      "3                90.0              90.0              88.0              86.0   \n",
      "4                75.0              77.0              75.0              73.0   \n",
      "..                ...               ...               ...               ...   \n",
      "300              68.0              68.0              72.0              72.0   \n",
      "301              59.0              66.0              70.0              72.0   \n",
      "302              39.0              39.0              41.0              41.0   \n",
      "303              55.0              55.0              59.0              61.0   \n",
      "304              73.0              75.0              79.0              81.0   \n",
      "\n",
      "     Temperature (F)8  Temperature (F)9  Temperature (F)10  Temperature (F)11  \n",
      "0                72.0              78.0               82.0               81.0  \n",
      "1                91.0              93.0               95.0               97.0  \n",
      "2                77.0              75.0               73.0               73.0  \n",
      "3                84.0              81.0               79.0               75.0  \n",
      "4                70.0              68.0               64.0               63.0  \n",
      "..                ...               ...                ...                ...  \n",
      "300              73.0              75.0               75.0               75.0  \n",
      "301              72.0              73.0               73.0               72.0  \n",
      "302              43.0              41.0               39.0               37.0  \n",
      "303              63.0              63.0               64.0               63.0  \n",
      "304              82.0              86.0               88.0               90.0  \n",
      "\n",
      "[305 rows x 12 columns]\n",
      "     Dewpoint (F)0  Dewpoint (F)1  Dewpoint (F)2  Dewpoint (F)3  \\\n",
      "0             75.0           75.0           76.0           76.0   \n",
      "1             72.0           73.0           73.0           73.0   \n",
      "2             22.0            8.0           12.0           19.0   \n",
      "3             55.0           54.0           55.0           54.0   \n",
      "4             59.0           59.0           59.0           59.0   \n",
      "..             ...            ...            ...            ...   \n",
      "300            0.0            0.0           57.0           55.0   \n",
      "301           59.0           59.0           57.0           59.0   \n",
      "302           37.0           37.0           36.0           36.0   \n",
      "303           34.0           32.0           36.0           36.0   \n",
      "304           55.0           57.0           57.0           59.0   \n",
      "\n",
      "     Dewpoint (F)4  Dewpoint (F)5  Dewpoint (F)6  Dewpoint (F)7  \\\n",
      "0             76.0           76.0           76.0           76.0   \n",
      "1             73.0           75.0           75.0           75.0   \n",
      "2             20.0           18.0           16.0           13.0   \n",
      "3             55.0           55.0           52.0           54.0   \n",
      "4             59.0           59.0           57.0           55.0   \n",
      "..             ...            ...            ...            ...   \n",
      "300           52.0           48.0           46.0           46.0   \n",
      "301           59.0           64.0           63.0           59.0   \n",
      "302           36.0           36.0           36.0           34.0   \n",
      "303           30.0           34.0           32.0           36.0   \n",
      "304           59.0           61.0           61.0           63.0   \n",
      "\n",
      "     Dewpoint (F)8  Dewpoint (F)9  Dewpoint (F)10  Dewpoint (F)11  \n",
      "0             75.0           77.0            77.0            77.0  \n",
      "1             75.0           75.0            77.0            77.0  \n",
      "2              7.0           41.0            38.0            22.0  \n",
      "3             54.0           54.0            54.0            54.0  \n",
      "4             55.0           54.0            52.0            52.0  \n",
      "..             ...            ...             ...             ...  \n",
      "300           48.0           45.0            45.0            45.0  \n",
      "301           61.0           63.0            64.0            61.0  \n",
      "302           34.0           34.0            36.0            32.0  \n",
      "303           34.0           34.0            34.0            36.0  \n",
      "304           61.0           59.0            59.0            59.0  \n",
      "\n",
      "[305 rows x 12 columns]\n",
      "     Humidity (%)0  Humidity (%)1  Humidity (%)2  Humidity (%)3  \\\n",
      "0             85.0           86.0           86.0           88.0   \n",
      "1             78.0           79.0           79.0           74.0   \n",
      "2             74.0           79.0           84.0           79.0   \n",
      "3             47.0           39.0           37.0           31.0   \n",
      "4             64.0           61.0           61.0           57.0   \n",
      "..             ...            ...            ...            ...   \n",
      "300            0.0            0.0           94.0           73.0   \n",
      "301          100.0          100.0          100.0          100.0   \n",
      "302          100.0          100.0           93.0           93.0   \n",
      "303           66.0           61.0           62.0           54.0   \n",
      "304           77.0           77.0           73.0           68.0   \n",
      "\n",
      "     Humidity (%)4  Humidity (%)5  Humidity (%)6  Humidity (%)7  \\\n",
      "0             90.0           90.0           94.0           89.0   \n",
      "1             70.0           70.0           66.0           62.0   \n",
      "2             74.0           79.0           83.0           83.0   \n",
      "3             31.0           31.0           31.0           31.0   \n",
      "4             57.0           54.0           53.0           53.0   \n",
      "..             ...            ...            ...            ...   \n",
      "300           56.0           49.0           41.0           41.0   \n",
      "301          100.0           94.0           78.0           64.0   \n",
      "302           87.0           87.0           81.0           76.0   \n",
      "303           38.0           44.0           36.0           39.0   \n",
      "304           61.0           61.0           54.0           54.0   \n",
      "\n",
      "     Humidity (%)8  Humidity (%)9  Humidity (%)10  Humidity (%)11  \n",
      "0             74.0           62.0            55.0            53.0  \n",
      "1             59.0           56.0            56.0            53.0  \n",
      "2             83.0           94.0            94.0            89.0  \n",
      "3             35.0           39.0            42.0            47.0  \n",
      "4             60.0           60.0            64.0            68.0  \n",
      "..             ...            ...             ...             ...  \n",
      "300           41.0           34.0            34.0            34.0  \n",
      "301           69.0           69.0            73.0            69.0  \n",
      "302           70.0           76.0            87.0            81.0  \n",
      "303           34.0           34.0            32.0            37.0  \n",
      "304           48.0           40.0            38.0            36.0  \n",
      "\n",
      "[305 rows x 12 columns]\n",
      "     Wind Speed (mph)0  Wind Speed (mph)1  Wind Speed (mph)2  \\\n",
      "0                  2.0                3.0                3.0   \n",
      "1                  5.0                6.0                2.0   \n",
      "2                 18.0               18.0               20.0   \n",
      "3                  3.0                6.0                8.0   \n",
      "4                 13.0               17.0               18.0   \n",
      "..                 ...                ...                ...   \n",
      "300                0.0                0.0                0.0   \n",
      "301                3.0                8.0                9.0   \n",
      "302               10.0               10.0               16.0   \n",
      "303                8.0               10.0                2.0   \n",
      "304                8.0                9.0                8.0   \n",
      "\n",
      "     Wind Speed (mph)3  Wind Speed (mph)4  Wind Speed (mph)5  \\\n",
      "0                  3.0                4.0                4.0   \n",
      "1                  5.0                7.0                5.0   \n",
      "2                 21.0               20.0               20.0   \n",
      "3                 12.0               13.0               15.0   \n",
      "4                 17.0               21.0               23.0   \n",
      "..                 ...                ...                ...   \n",
      "300                0.0                0.0                0.0   \n",
      "301                5.0                9.0                7.0   \n",
      "302               14.0               13.0                8.0   \n",
      "303                5.0                3.0                2.0   \n",
      "304                7.0               10.0               10.0   \n",
      "\n",
      "     Wind Speed (mph)6  Wind Speed (mph)7  Wind Speed (mph)8  \\\n",
      "0                  2.0                4.0                2.0   \n",
      "1                  5.0                7.0                5.0   \n",
      "2                 20.0               20.0               17.0   \n",
      "3                 16.0               18.0               15.0   \n",
      "4                 21.0               23.0               18.0   \n",
      "..                 ...                ...                ...   \n",
      "300                0.0                0.0                0.0   \n",
      "301                2.0                5.0                2.0   \n",
      "302               12.0               13.0               10.0   \n",
      "303                3.0                3.0                3.0   \n",
      "304               12.0                9.0               10.0   \n",
      "\n",
      "     Wind Speed (mph)9  Wind Speed (mph)10  Wind Speed (mph)11  \n",
      "0                  4.0                 6.0                 6.0  \n",
      "1                  6.0                 5.0                 2.0  \n",
      "2                 10.0                11.0                11.0  \n",
      "3                 15.0                13.0                 9.0  \n",
      "4                 20.0                17.0                15.0  \n",
      "..                 ...                 ...                 ...  \n",
      "300                0.0                 0.0                 0.0  \n",
      "301                9.0                 7.0                 5.0  \n",
      "302               10.0                10.0                10.0  \n",
      "303                7.0                 8.0                 9.0  \n",
      "304                7.0                 7.0                 5.0  \n",
      "\n",
      "[305 rows x 12 columns]\n",
      "     Pressure (in)0  Pressure (in)1  Pressure (in)2  Pressure (in)3  \\\n",
      "0             29.80           29.83           29.83           29.86   \n",
      "1             29.64           29.64           29.64           29.64   \n",
      "2             30.09           30.09           30.06           30.06   \n",
      "3             28.31           28.31           28.28           28.25   \n",
      "4             29.87           29.84           29.84           29.84   \n",
      "..              ...             ...             ...             ...   \n",
      "300           28.99           29.00           29.00           29.01   \n",
      "301           28.49           28.48           28.50           28.48   \n",
      "302           28.70           28.76           28.81           28.86   \n",
      "303           29.19           29.20           29.21           29.22   \n",
      "304           29.51           29.50           29.49           29.48   \n",
      "\n",
      "     Pressure (in)4  Pressure (in)5  Pressure (in)6  Pressure (in)7  \\\n",
      "0             29.86           29.80           29.83           29.83   \n",
      "1             29.67           29.67           29.67           29.67   \n",
      "2             30.06           30.06           30.06           30.03   \n",
      "3             28.25           28.22           28.22           28.22   \n",
      "4             29.81           29.81           29.81           29.78   \n",
      "..              ...             ...             ...             ...   \n",
      "300           29.00           28.99           28.99           28.97   \n",
      "301           28.46           28.49           28.49           28.49   \n",
      "302           28.89           28.92           28.95           28.97   \n",
      "303           29.22           29.22           29.22           29.21   \n",
      "304           29.46           29.45           29.44           29.42   \n",
      "\n",
      "     Pressure (in)8  Pressure (in)9  Pressure (in)10  Pressure (in)11  \n",
      "0             29.86           29.86            29.83            29.83  \n",
      "1             29.67           29.64            29.64            29.64  \n",
      "2             30.06           30.06            30.09            30.09  \n",
      "3             28.22           28.22            28.25            28.28  \n",
      "4             29.78           29.81            29.84            29.84  \n",
      "..              ...             ...              ...              ...  \n",
      "300           28.97           28.96            28.96            28.95  \n",
      "301           28.49           28.48            28.49            28.50  \n",
      "302           28.99           29.02            29.04            29.06  \n",
      "303           29.20           29.20            29.21            29.21  \n",
      "304           29.41           29.40            29.38            29.37  \n",
      "\n",
      "[305 rows x 12 columns]\n",
      "     Percipitation (in)0  Percipitation (in)1  Percipitation (in)2  \\\n",
      "0                    0.0                  0.0                  0.0   \n",
      "1                    0.0                  0.0                  0.0   \n",
      "2                    0.0                  0.0                  0.0   \n",
      "3                    0.0                  0.0                  0.0   \n",
      "4                    0.0                  0.0                  0.0   \n",
      "..                   ...                  ...                  ...   \n",
      "300                  0.0                  0.0                  0.0   \n",
      "301                  0.0                  0.0                  0.0   \n",
      "302                  0.0                  0.0                  0.0   \n",
      "303                  0.0                  0.0                  0.0   \n",
      "304                  0.0                  0.0                  0.0   \n",
      "\n",
      "     Percipitation (in)3  Percipitation (in)4  Percipitation (in)5  \\\n",
      "0                    0.0                  0.0                  0.0   \n",
      "1                    0.0                  0.0                  0.0   \n",
      "2                    0.0                  0.0                  0.0   \n",
      "3                    0.0                  0.0                  0.0   \n",
      "4                    0.0                  0.0                  0.0   \n",
      "..                   ...                  ...                  ...   \n",
      "300                  0.0                  0.0                  0.0   \n",
      "301                  0.0                  0.0                  0.0   \n",
      "302                  0.0                  0.0                  0.0   \n",
      "303                  0.0                  0.0                  0.0   \n",
      "304                  0.0                  0.0                  0.0   \n",
      "\n",
      "     Percipitation (in)6  Percipitation (in)7  Percipitation (in)8  \\\n",
      "0                    0.0                  0.0                  0.0   \n",
      "1                    0.0                  0.0                  0.0   \n",
      "2                    0.0                  0.0                  0.0   \n",
      "3                    0.0                  0.0                  0.0   \n",
      "4                    0.0                  0.0                  0.0   \n",
      "..                   ...                  ...                  ...   \n",
      "300                  0.0                  0.0                  0.0   \n",
      "301                  0.0                  0.0                  0.0   \n",
      "302                  0.0                  0.0                  0.0   \n",
      "303                  0.0                  0.0                  0.0   \n",
      "304                  0.0                  0.0                  0.0   \n",
      "\n",
      "     Percipitation (in)9  Percipitation (in)10  Percipitation (in)11  \n",
      "0                    0.0                   0.0                   0.0  \n",
      "1                    0.0                   0.0                   0.0  \n",
      "2                    0.0                   0.0                   0.0  \n",
      "3                    0.0                   0.0                   0.0  \n",
      "4                    0.0                   0.0                   0.0  \n",
      "..                   ...                   ...                   ...  \n",
      "300                  0.0                   0.0                   0.0  \n",
      "301                  0.0                   0.0                   0.0  \n",
      "302                  0.0                   0.0                   0.0  \n",
      "303                  0.0                   0.0                   0.0  \n",
      "304                  0.0                   0.0                   0.0  \n",
      "\n",
      "[305 rows x 12 columns]\n"
     ]
    }
   ],
   "source": [
    "def str_to_list(x):\n",
    "    test = ''\n",
    "    if type(x) == type(test):\n",
    "        values = x.replace(',','').replace('[','').replace(']','').split(' ')\n",
    "        values = list(filter(None, values))\n",
    "    else:\n",
    "        values = x\n",
    "    # Remove empty strings\n",
    "    l = [float(val) for val in values]\n",
    "    return l\n",
    "\n",
    "def arr_to_intlist(x):\n",
    "    l = [int(val) for val in x]\n",
    "    return l\n",
    "\n",
    "list_columns = numerical_vector_column_labels\n",
    "\n",
    "added_cols = []\n",
    "\n",
    "# First split numerical columns\n",
    "for col in list_columns:\n",
    "    if (df[col].dtype == 'object'):\n",
    "        df[col] = df[col].apply(str_to_list if col != 'Condition' else arr_to_intlist)\n",
    "    \n",
    "    new_columns = [col + str(x) for x in range(12)]\n",
    "    added_cols = added_cols + new_columns\n",
    "    coded_df[new_columns] = pd.DataFrame(df[col].tolist(), columns=new_columns)\n",
    "    print(coded_df[new_columns])\n"
   ]
  },
  {
   "cell_type": "code",
   "execution_count": 83,
   "metadata": {},
   "outputs": [],
   "source": [
    "from sklearn.model_selection import train_test_split\n",
    "\n",
    "target_var = 'Y-Value_encoded'\n",
    "feature_var = ['Season Started_enc', 'Locations Affected_enc', 'Type Of Location_enc'] + added_cols\n",
    "X_train, X_test, y_train, y_test = train_test_split(coded_df[feature_var], coded_df[target_var], test_size=0.2, shuffle=True, random_state=101)"
   ]
  },
  {
   "cell_type": "code",
   "execution_count": 84,
   "metadata": {},
   "outputs": [
    {
     "name": "stdout",
     "output_type": "stream",
     "text": [
      "CV accuracy scores are [0.48       0.8        0.72       0.72       0.66666667 0.5\n",
      " 0.66666667 0.70833333 0.66666667 0.75      ]\n",
      "The average KFold scores is 0.6678333333333334\n",
      "The average LOOCV score is 0.6639344262295082\n",
      "The average RepeatedKFold score is 0.6763265306122449\n"
     ]
    }
   ],
   "source": [
    "from sklearn.naive_bayes import GaussianNB\n",
    "from sklearn.model_selection import cross_val_score\n",
    "from sklearn.model_selection import KFold\n",
    "from sklearn.model_selection import LeaveOneOut\n",
    "from sklearn.model_selection import RepeatedKFold\n",
    "\n",
    "repeatkf = RepeatedKFold(n_splits=5, n_repeats=10, random_state=None)\n",
    "\n",
    "loo = LeaveOneOut()\n",
    "\n",
    "kfold = KFold(n_splits=10, shuffle=True, random_state=6969)\n",
    "\n",
    "model = GaussianNB()\n",
    "model.fit(X_train, y_train) \n",
    "\n",
    "prediction = model.predict(X_test)\n",
    "\n",
    "print('CV accuracy scores are', cross_val_score(model, X_train, y_train, scoring='accuracy', cv= kfold, n_jobs=-1))\n",
    "\n",
    "print('The average KFold scores is', np.mean(cross_val_score(model, X_train, y_train, scoring='accuracy', cv=kfold, n_jobs=-1)))\n",
    "print('The average LOOCV score is', np.mean(cross_val_score(model, X_train, y_train, scoring='accuracy', cv=loo, n_jobs=-1)))\n",
    "print('The average RepeatedKFold score is', np.mean(cross_val_score(model, X_train, y_train, cv=repeatkf, n_jobs=-1)))"
   ]
  },
  {
   "cell_type": "code",
   "execution_count": 67,
   "metadata": {},
   "outputs": [
    {
     "name": "stdout",
     "output_type": "stream",
     "text": [
      "{'n_neighbors': 26}\n",
      "0.7540983606557377\n",
      "[0.72168367 0.72142857 0.74991497 0.72542517 0.72559524 0.7255102\n",
      " 0.72151361 0.7502551  0.72967687 0.73784014 0.71743197 0.7297619\n",
      " 0.71760204 0.73392857 0.7422619  0.74217687 0.7422619  0.74217687\n",
      " 0.7422619  0.73818027 0.7422619  0.73809524 0.74617347 0.7420068\n",
      " 0.7585034  0.76258503 0.7585034  0.75442177 0.75442177 0.7462585\n",
      " 0.7585034  0.75442177 0.75034014 0.75442177 0.75034014 0.75442177\n",
      " 0.75442177 0.7585034  0.7585034  0.76258503 0.75034014 0.74617347\n",
      " 0.75034014 0.74617347 0.74617347 0.74617347 0.74617347 0.74617347\n",
      " 0.74617347 0.7502551  0.74617347 0.74617347 0.7502551  0.74617347\n",
      " 0.7502551  0.75433673 0.7502551  0.7502551  0.7502551  0.74617347\n",
      " 0.74617347 0.7502551  0.75442177 0.7502551  0.74617347 0.7502551\n",
      " 0.74617347 0.7502551  0.74617347 0.7502551  0.7502551  0.7502551\n",
      " 0.74617347 0.7502551  0.7502551  0.75433673 0.75841837 0.7502551\n",
      " 0.7502551  0.7502551  0.74617347 0.7502551  0.74617347 0.74209184\n",
      " 0.7380102  0.74209184 0.74617347 0.74209184 0.7380102  0.73384354\n",
      " 0.73384354 0.73384354 0.7462585  0.7462585  0.75034014 0.7502551\n",
      " 0.7502551  0.74209184 0.73809524 0.73401361 0.7422619  0.73401361\n",
      " 0.73401361 0.73809524 0.7380102  0.7380102  0.7380102  0.7380102\n",
      " 0.74217687 0.73384354 0.73809524 0.73809524 0.73809524 0.73401361\n",
      " 0.74217687 0.74217687 0.7462585  0.74217687 0.74217687 0.74217687\n",
      " 0.74217687 0.75042517 0.73809524 0.74217687 0.73809524 0.73809524\n",
      " 0.73809524 0.74217687 0.74217687 0.74217687 0.73809524 0.73809524\n",
      " 0.73809524 0.73809524 0.73401361 0.73809524 0.73792517 0.73392857\n",
      " 0.73384354 0.74217687 0.73809524 0.73818027 0.73409864 0.73409864\n",
      " 0.72568027 0.73392857 0.72151361 0.72568027 0.7255102 ]\n"
     ]
    }
   ],
   "source": [
    "from sklearn.model_selection import GridSearchCV\n",
    "from sklearn.neighbors import KNeighborsClassifier\n",
    "\n",
    "# Set parameter to be searched in a range\n",
    "params = {'n_neighbors': range(1,150)}\n",
    "\n",
    "# Initiate the KNN model and GridSearchCV function\n",
    "knn = KNeighborsClassifier()\n",
    "grid_knn = GridSearchCV(estimator=knn, param_grid=params,\n",
    "                        scoring='accuracy', cv=5)\n",
    "\n",
    "# Fit the function to train set \n",
    "grid_knn.fit(X_train, y_train)\n",
    "\n",
    "# Find the best parameter and see how well it performs on test set\n",
    "print(grid_knn.best_params_)\n",
    "print(grid_knn.score(X_test, y_test))\n",
    "print(grid_knn.cv_results_['mean_test_score'])"
   ]
  },
  {
   "cell_type": "markdown",
   "metadata": {},
   "source": [
    "### 6. Feature scaling"
   ]
  },
  {
   "cell_type": "markdown",
   "metadata": {},
   "source": [
    "TBD"
   ]
  },
  {
   "cell_type": "markdown",
   "metadata": {},
   "source": [
    "### 7. Data visualization"
   ]
  },
  {
   "cell_type": "markdown",
   "metadata": {},
   "source": [
    "TBD"
   ]
  }
 ],
 "metadata": {
  "kernelspec": {
   "display_name": "Python 3 (ipykernel)",
   "language": "python",
   "name": "python3"
  },
  "language_info": {
   "codemirror_mode": {
    "name": "ipython",
    "version": 3
   },
   "file_extension": ".py",
   "mimetype": "text/x-python",
   "name": "python",
   "nbconvert_exporter": "python",
   "pygments_lexer": "ipython3",
   "version": "3.10.13"
  }
 },
 "nbformat": 4,
 "nbformat_minor": 4
}
